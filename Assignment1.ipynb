{
 "cells": [
  {
   "cell_type": "code",
   "execution_count": 1,
   "id": "370e158c-4839-4b6c-a74e-faaf4864b633",
   "metadata": {},
   "outputs": [],
   "source": [
    "a=('ram',[1,3,5,7],4.2,(2,4,6))"
   ]
  },
  {
   "cell_type": "code",
   "execution_count": 2,
   "id": "08321b39-8217-42be-8993-374a8b7ae22b",
   "metadata": {},
   "outputs": [
    {
     "data": {
      "text/plain": [
       "tuple"
      ]
     },
     "execution_count": 2,
     "metadata": {},
     "output_type": "execute_result"
    }
   ],
   "source": [
    "type(a)"
   ]
  },
  {
   "cell_type": "code",
   "execution_count": 3,
   "id": "5c8f2616-8329-453d-a2c7-5223cf120bde",
   "metadata": {},
   "outputs": [],
   "source": [
    "var1=''"
   ]
  },
  {
   "cell_type": "code",
   "execution_count": 4,
   "id": "c5f0d488-8b22-4dec-ab84-2cb93b87d56d",
   "metadata": {},
   "outputs": [
    {
     "data": {
      "text/plain": [
       "str"
      ]
     },
     "execution_count": 4,
     "metadata": {},
     "output_type": "execute_result"
    }
   ],
   "source": [
    "type(var1)"
   ]
  },
  {
   "cell_type": "code",
   "execution_count": 5,
   "id": "afaf3268-2f00-4a39-98d2-f946be6d59ee",
   "metadata": {},
   "outputs": [],
   "source": [
    "var2='[DS, ML, Python]'"
   ]
  },
  {
   "cell_type": "code",
   "execution_count": 6,
   "id": "2a5128cc-daee-4d80-a2aa-a68a8f3f4f92",
   "metadata": {},
   "outputs": [
    {
     "data": {
      "text/plain": [
       "str"
      ]
     },
     "execution_count": 6,
     "metadata": {},
     "output_type": "execute_result"
    }
   ],
   "source": [
    "type(var2)"
   ]
  },
  {
   "cell_type": "code",
   "execution_count": 7,
   "id": "0fb7d586-b67f-4e86-b1f3-46a113757cec",
   "metadata": {},
   "outputs": [],
   "source": [
    "var3=['DS', 'ML', 'Python']"
   ]
  },
  {
   "cell_type": "code",
   "execution_count": 8,
   "id": "9204b95b-828c-41d1-bb80-3c5ce912bddc",
   "metadata": {},
   "outputs": [
    {
     "data": {
      "text/plain": [
       "list"
      ]
     },
     "execution_count": 8,
     "metadata": {},
     "output_type": "execute_result"
    }
   ],
   "source": [
    "type(var3)"
   ]
  },
  {
   "cell_type": "code",
   "execution_count": 9,
   "id": "bf20a9f3-623f-417c-bc09-22a072f618d2",
   "metadata": {},
   "outputs": [],
   "source": [
    "var4=1"
   ]
  },
  {
   "cell_type": "code",
   "execution_count": 10,
   "id": "2d494de6-1d82-4148-992e-c3926c996b0d",
   "metadata": {},
   "outputs": [
    {
     "data": {
      "text/plain": [
       "int"
      ]
     },
     "execution_count": 10,
     "metadata": {},
     "output_type": "execute_result"
    }
   ],
   "source": [
    "type(var4)"
   ]
  },
  {
   "cell_type": "code",
   "execution_count": 12,
   "id": "0e49285e-ef61-46fd-b0ba-5851cd500290",
   "metadata": {},
   "outputs": [
    {
     "data": {
      "text/plain": [
       "2.0"
      ]
     },
     "execution_count": 12,
     "metadata": {},
     "output_type": "execute_result"
    }
   ],
   "source": [
    "4/2"
   ]
  },
  {
   "cell_type": "code",
   "execution_count": 13,
   "id": "7b647182-6820-467d-8b38-ebfd13b99eb4",
   "metadata": {},
   "outputs": [
    {
     "data": {
      "text/plain": [
       "0"
      ]
     },
     "execution_count": 13,
     "metadata": {},
     "output_type": "execute_result"
    }
   ],
   "source": [
    "10%2"
   ]
  },
  {
   "cell_type": "code",
   "execution_count": 15,
   "id": "63e4c49f-a347-4b13-a5f5-b63d5176a2bf",
   "metadata": {},
   "outputs": [
    {
     "data": {
      "text/plain": [
       "2"
      ]
     },
     "execution_count": 15,
     "metadata": {},
     "output_type": "execute_result"
    }
   ],
   "source": [
    "5//2"
   ]
  },
  {
   "cell_type": "code",
   "execution_count": 16,
   "id": "3d45fd65-e25e-40ac-b88f-0f66d8ab2c49",
   "metadata": {},
   "outputs": [
    {
     "data": {
      "text/plain": [
       "16"
      ]
     },
     "execution_count": 16,
     "metadata": {},
     "output_type": "execute_result"
    }
   ],
   "source": [
    "2**4"
   ]
  },
  {
   "cell_type": "code",
   "execution_count": 2,
   "id": "21d0cb9d-a072-4f25-a3ba-434da091d375",
   "metadata": {},
   "outputs": [
    {
     "name": "stdout",
     "output_type": "stream",
     "text": [
      "1\n",
      "<class 'int'>\n",
      "2\n",
      "<class 'int'>\n",
      "3\n",
      "<class 'int'>\n",
      "4\n",
      "<class 'int'>\n",
      "ram\n",
      "<class 'str'>\n",
      "car\n",
      "<class 'str'>\n",
      "5.0\n",
      "<class 'float'>\n",
      "4.2\n",
      "<class 'float'>\n",
      "(2, 4, 6)\n",
      "<class 'tuple'>\n",
      "10\n",
      "<class 'int'>\n"
     ]
    }
   ],
   "source": [
    "l=[1,2,3,4,'ram', 'car', 5.0, 4.2,(2,4,6),10]\n",
    "for i in l:\n",
    "    print(i)\n",
    "    print(type(i))"
   ]
  },
  {
   "cell_type": "code",
   "execution_count": 10,
   "id": "a2fcabb7-8575-461b-90f1-59418e9aa5d0",
   "metadata": {},
   "outputs": [
    {
     "name": "stdin",
     "output_type": "stream",
     "text": [
      " 100\n",
      " 5\n"
     ]
    },
    {
     "name": "stdout",
     "output_type": "stream",
     "text": [
      "divisible 2 times\n"
     ]
    }
   ],
   "source": [
    "A = int(input())\n",
    "B = int(input())\n",
    "count = 0\n",
    "while A%B==0:\n",
    "    count+=1\n",
    "    A=A//B\n",
    "    \n",
    "if count>0:\n",
    "    print(\"divisible\",count,\"times\")"
   ]
  },
  {
   "cell_type": "code",
   "execution_count": 5,
   "id": "af1c3f67-1e2f-4883-8429-eb50b7690371",
   "metadata": {
    "tags": []
   },
   "outputs": [
    {
     "name": "stdout",
     "output_type": "stream",
     "text": [
      "0\n",
      "Divisible by 3\n",
      "1\n",
      "Not Divisible\n",
      "2\n",
      "Not Divisible\n",
      "3\n",
      "Divisible by 3\n",
      "4\n",
      "Not Divisible\n",
      "5\n",
      "Not Divisible\n",
      "6\n",
      "Divisible by 3\n",
      "7\n",
      "Not Divisible\n",
      "8\n",
      "Not Divisible\n",
      "9\n",
      "Divisible by 3\n",
      "10\n",
      "Not Divisible\n",
      "11\n",
      "Not Divisible\n",
      "12\n",
      "Divisible by 3\n",
      "13\n",
      "Not Divisible\n",
      "14\n",
      "Not Divisible\n",
      "15\n",
      "Divisible by 3\n",
      "16\n",
      "Not Divisible\n",
      "17\n",
      "Not Divisible\n",
      "18\n",
      "Divisible by 3\n",
      "19\n",
      "Not Divisible\n",
      "20\n",
      "Not Divisible\n",
      "21\n",
      "Divisible by 3\n",
      "22\n",
      "Not Divisible\n",
      "23\n",
      "Not Divisible\n",
      "24\n",
      "Divisible by 3\n"
     ]
    }
   ],
   "source": [
    "l=range(25)\n",
    "for i in l:\n",
    "    print(i)\n",
    "    if i%3==0:\n",
    "        print(\"Divisible by 3\")\n",
    "    else:\n",
    "        print(\"Not Divisible\")"
   ]
  },
  {
   "cell_type": "code",
   "execution_count": 12,
   "id": "3c7038d8-5289-4f9b-ad56-002cd9f59c65",
   "metadata": {},
   "outputs": [],
   "source": [
    "v='ram'"
   ]
  },
  {
   "cell_type": "code",
   "execution_count": 13,
   "id": "35a2399d-f215-4f8a-8033-c3da4b100e2d",
   "metadata": {},
   "outputs": [
    {
     "ename": "TypeError",
     "evalue": "'str' object does not support item assignment",
     "output_type": "error",
     "traceback": [
      "\u001b[0;31m---------------------------------------------------------------------------\u001b[0m",
      "\u001b[0;31mTypeError\u001b[0m                                 Traceback (most recent call last)",
      "Cell \u001b[0;32mIn[13], line 1\u001b[0m\n\u001b[0;32m----> 1\u001b[0m \u001b[43mv\u001b[49m\u001b[43m[\u001b[49m\u001b[38;5;241;43m0\u001b[39;49m\u001b[43m]\u001b[49m\u001b[38;5;241m=\u001b[39m\u001b[38;5;124m'\u001b[39m\u001b[38;5;124ms\u001b[39m\u001b[38;5;124m'\u001b[39m\n",
      "\u001b[0;31mTypeError\u001b[0m: 'str' object does not support item assignment"
     ]
    }
   ],
   "source": [
    "v[0]='s'"
   ]
  },
  {
   "cell_type": "code",
   "execution_count": 2,
   "id": "e9494c37-9912-46e3-babb-83241a9ca636",
   "metadata": {},
   "outputs": [],
   "source": [
    "l1=[1,3,5,7,9]"
   ]
  },
  {
   "cell_type": "code",
   "execution_count": 3,
   "id": "251ddaf2-33e1-4b28-a2cd-a1de8f025967",
   "metadata": {},
   "outputs": [],
   "source": [
    "l1[3]= 2"
   ]
  },
  {
   "cell_type": "code",
   "execution_count": 4,
   "id": "b8c5f394-0f3c-4075-a1bb-9a99f055d3b8",
   "metadata": {},
   "outputs": [
    {
     "data": {
      "text/plain": [
       "[1, 3, 5, 2, 9]"
      ]
     },
     "execution_count": 4,
     "metadata": {},
     "output_type": "execute_result"
    }
   ],
   "source": [
    "l1"
   ]
  },
  {
   "cell_type": "code",
   "execution_count": null,
   "id": "216f981d-db69-48e6-a93c-c986d74d528a",
   "metadata": {},
   "outputs": [],
   "source": []
  }
 ],
 "metadata": {
  "kernelspec": {
   "display_name": "Python 3 (ipykernel)",
   "language": "python",
   "name": "python3"
  },
  "language_info": {
   "codemirror_mode": {
    "name": "ipython",
    "version": 3
   },
   "file_extension": ".py",
   "mimetype": "text/x-python",
   "name": "python",
   "nbconvert_exporter": "python",
   "pygments_lexer": "ipython3",
   "version": "3.10.8"
  }
 },
 "nbformat": 4,
 "nbformat_minor": 5
}
